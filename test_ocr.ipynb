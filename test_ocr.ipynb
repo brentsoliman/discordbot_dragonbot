{
 "cells": [
  {
   "cell_type": "code",
   "execution_count": 61,
   "id": "274ba9a7",
   "metadata": {},
   "outputs": [],
   "source": [
    "import easyocr"
   ]
  },
  {
   "cell_type": "code",
   "execution_count": 67,
   "id": "283f3cc3",
   "metadata": {},
   "outputs": [],
   "source": [
    "IMAGE_PATH = 'img.jpeg'"
   ]
  },
  {
   "cell_type": "code",
   "execution_count": 68,
   "id": "61196475",
   "metadata": {},
   "outputs": [],
   "source": [
    "reader = easyocr.Reader(['en'])\n"
   ]
  },
  {
   "cell_type": "code",
   "execution_count": 69,
   "id": "a14d8e1b",
   "metadata": {},
   "outputs": [
    {
     "data": {
      "text/plain": [
       "['Brittany Whitesides',\n",
       " '000',\n",
       " '13,2023 at 7:19 AM',\n",
       " 'Central, Singapore',\n",
       " 'First ride in 4 months! !',\n",
       " 'Legs be hurtin man',\n",
       " 'Distance',\n",
       " 'Elev Gain',\n",
       " 'Time',\n",
       " 'Achievements',\n",
       " '28.34 mi',\n",
       " '1,257 ft',\n",
       " '2h 9m',\n",
       " '3',\n",
       " 'May']"
      ]
     },
     "execution_count": 69,
     "metadata": {},
     "output_type": "execute_result"
    }
   ],
   "source": [
    "result = reader.readtext(IMAGE_PATH,detail = 0)\n",
    "result"
   ]
  },
  {
   "cell_type": "code",
   "execution_count": 65,
   "id": "4fa90f95",
   "metadata": {},
   "outputs": [
    {
     "name": "stdout",
     "output_type": "stream",
     "text": [
      "['Distance', 'Elev Gain', 'Time', 'Achievements', '28.34 mi', '1,257 ft', '2h 9m', '3', 'May']\n"
     ]
    }
   ],
   "source": [
    "index = result.index('Distance')\n",
    "shortLst = result[index:]\n",
    "print(shortLst)\n",
    "#print(shortLst[int(len(shortLst) / 2)])"
   ]
  },
  {
   "cell_type": "code",
   "execution_count": 90,
   "id": "f16df4ee",
   "metadata": {},
   "outputs": [
    {
     "name": "stdout",
     "output_type": "stream",
     "text": [
      "{'Distance': '28.34 mi', 'Elev Gain': '1,257 ft', 'Time': '2h 9m', 'Achievements': '3'}\n"
     ]
    }
   ],
   "source": [
    "if 'Achievements' in result:\n",
    "    achi = result.index('Achievements')\n",
    "    last_index = achi + 5\n",
    "    newResult = result[:last_index]\n",
    "    #print(newResult)\n",
    "    dic = zip(newResult[-8:-4],newResult[-4:])\n",
    "    dic = dict(dic)\n",
    "    print(dic)\n",
    "else:\n",
    "    dic = zip(result[-6:-3],result[-3:])\n",
    "    dic = dict(dic)\n",
    "    print(dic)"
   ]
  },
  {
   "cell_type": "code",
   "execution_count": 77,
   "id": "236f22e1",
   "metadata": {},
   "outputs": [
    {
     "name": "stdout",
     "output_type": "stream",
     "text": [
      "['a', 'b']\n"
     ]
    }
   ],
   "source": []
  }
 ],
 "metadata": {
  "kernelspec": {
   "display_name": "Python 3 (ipykernel)",
   "language": "python",
   "name": "python3"
  },
  "language_info": {
   "codemirror_mode": {
    "name": "ipython",
    "version": 3
   },
   "file_extension": ".py",
   "mimetype": "text/x-python",
   "name": "python",
   "nbconvert_exporter": "python",
   "pygments_lexer": "ipython3",
   "version": "3.8.8"
  }
 },
 "nbformat": 4,
 "nbformat_minor": 5
}
