{
 "cells": [
  {
   "cell_type": "code",
   "execution_count": 2,
   "id": "cd9769c8",
   "metadata": {},
   "outputs": [],
   "source": [
    "word = '16,000 m'"
   ]
  },
  {
   "cell_type": "code",
   "execution_count": 6,
   "id": "40c021c2",
   "metadata": {},
   "outputs": [
    {
     "name": "stdout",
     "output_type": "stream",
     "text": [
      "['1', '6', ',', '0', '0', '0', ' ', 'm']\n",
      "['1', '6', ',', '0', '0', '0', ' ', 'm']\n",
      "['1', '6', ',', '0', '0', '0', ' ', 'm']\n"
     ]
    }
   ],
   "source": [
    "lst = list(word)\n",
    "\n",
    "print(lst)\n",
    "lst.pop()\n",
    "print(lst)\n"
   ]
  }
 ],
 "metadata": {
  "kernelspec": {
   "display_name": "Python 3 (ipykernel)",
   "language": "python",
   "name": "python3"
  },
  "language_info": {
   "codemirror_mode": {
    "name": "ipython",
    "version": 3
   },
   "file_extension": ".py",
   "mimetype": "text/x-python",
   "name": "python",
   "nbconvert_exporter": "python",
   "pygments_lexer": "ipython3",
   "version": "3.8.8"
  }
 },
 "nbformat": 4,
 "nbformat_minor": 5
}
