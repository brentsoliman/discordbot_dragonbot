{
 "cells": [
  {
   "cell_type": "code",
   "execution_count": 29,
   "id": "e3397706",
   "metadata": {},
   "outputs": [],
   "source": [
    "data = [\n",
    "    [\"Brent\",10],\n",
    "    [\"Conrad\",7],\n",
    "    [\"Soliman\",3]\n",
    "]\n",
    "\n",
    "ranking = {\n",
    "    1:\"1st\",\n",
    "    2:'2nd',\n",
    "    3:\"3rd\",\n",
    "    4:\"4th\",\n",
    "    5:\"5th\",\n",
    "    6:\"6th\",\n",
    "    7:\"7th\",\n",
    "    8:\"8th\",\n",
    "    9:\"9th\"\n",
    "}"
   ]
  },
  {
   "cell_type": "code",
   "execution_count": 30,
   "id": "5b5c06b8",
   "metadata": {},
   "outputs": [
    {
     "ename": "SyntaxError",
     "evalue": "unexpected EOF while parsing (18044058.py, line 1)",
     "output_type": "error",
     "traceback": [
      "\u001b[0;36m  Cell \u001b[0;32mIn[30], line 1\u001b[0;36m\u001b[0m\n\u001b[0;31m    def getRankingString(lst):\u001b[0m\n\u001b[0m                              ^\u001b[0m\n\u001b[0;31mSyntaxError\u001b[0m\u001b[0;31m:\u001b[0m unexpected EOF while parsing\n"
     ]
    }
   ],
   "source": [
    "def getRankingString(lst):\n",
    "    ret = \"\" + \"{:>22}\".format(\"weekly leaderboard\")\n",
    "    for x in range(len(lst)):\n",
    "    ret += \"\\n{:<5} | {:<10} | {}\".format(ranking[x + 1],lst[x][0],lst[x][1]))\n"
   ]
  },
  {
   "cell_type": "code",
   "execution_count": 46,
   "id": "57f9d401",
   "metadata": {},
   "outputs": [
    {
     "name": "stdout",
     "output_type": "stream",
     "text": [
      "    weekly leaderboard\n",
      "1st   | Brent      | 10\n",
      "2nd   | Conrad     | 7\n",
      "3rd   | Soliman    | 3\n"
     ]
    }
   ],
   "source": [
    "print(\"{:>22}\".format(\"weekly leaderboard\"))\n",
    "#print(\"weekly leaderboard\".rjust(30))\n",
    "for x in range(len(data)):\n",
    "    print(\"{:<5} | {:<10} | {}\".format(ranking[x + 1],data[x][0],data[x][1]))"
   ]
  }
 ],
 "metadata": {
  "kernelspec": {
   "display_name": "Python 3 (ipykernel)",
   "language": "python",
   "name": "python3"
  },
  "language_info": {
   "codemirror_mode": {
    "name": "ipython",
    "version": 3
   },
   "file_extension": ".py",
   "mimetype": "text/x-python",
   "name": "python",
   "nbconvert_exporter": "python",
   "pygments_lexer": "ipython3",
   "version": "3.8.8"
  }
 },
 "nbformat": 4,
 "nbformat_minor": 5
}
