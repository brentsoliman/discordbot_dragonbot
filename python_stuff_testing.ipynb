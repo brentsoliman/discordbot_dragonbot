{
 "cells": [
  {
   "cell_type": "code",
   "execution_count": 29,
   "id": "eb461563",
   "metadata": {},
   "outputs": [],
   "source": [
    "data = [\n",
    "    [\"Brent\",10],\n",
    "    [\"Conrad\",7],\n",
    "    [\"Soliman\",3]\n",
    "]\n",
    "\n",
    "ranking = {\n",
    "    1:\"1st\",\n",
    "    2:'2nd',\n",
    "    3:\"3rd\",\n",
    "    4:\"4th\",\n",
    "    5:\"5th\",\n",
    "    6:\"6th\",\n",
    "    7:\"7th\",\n",
    "    8:\"8th\",\n",
    "    9:\"9th\"\n",
    "}"
   ]
  },
  {
   "cell_type": "code",
   "execution_count": 57,
   "id": "f6672601",
   "metadata": {},
   "outputs": [],
   "source": [
    "def getRankingString(lst):\n",
    "    ret = \"\" + \"{:>22}\".format(\"weekly leaderboard\")\n",
    "    for x in range(len(lst)):\n",
    "        ret += \"\\n{:<5} | {:<10} | {}\".format(ranking[x + 1],lst[x][0],lst[x][1])\n",
    "    return ret"
   ]
  },
  {
   "cell_type": "code",
   "execution_count": 55,
   "id": "18af53c8",
   "metadata": {},
   "outputs": [
    {
     "name": "stdout",
     "output_type": "stream",
     "text": [
      "    weekly leaderboard\n",
      "1st   | Brent      | 10\n",
      "2nd   | Conrad     | 7\n",
      "3rd   | Soliman    | 3\n"
     ]
    }
   ],
   "source": [
    "print(\"{:>22}\".format(\"weekly leaderboard\"))\n",
    "#print(\"weekly leaderboard\".rjust(30))\n",
    "for x in range(len(data)):\n",
    "    print(\"{:<5} | {:<10} | {}\".format(ranking[x + 1],data[x][0],data[x][1]))"
   ]
  },
  {
   "cell_type": "code",
   "execution_count": 58,
   "id": "79cf696d",
   "metadata": {},
   "outputs": [
    {
     "name": "stdout",
     "output_type": "stream",
     "text": [
      "    weekly leaderboard\n",
      "1st   | Brent      | 10\n",
      "2nd   | Conrad     | 7\n",
      "3rd   | Soliman    | 3\n"
     ]
    }
   ],
   "source": [
    "var = getRankingString(data)\n",
    "print(var)"
   ]
  }
 ],
 "metadata": {
  "kernelspec": {
   "display_name": "Python 3 (ipykernel)",
   "language": "python",
   "name": "python3"
  },
  "language_info": {
   "codemirror_mode": {
    "name": "ipython",
    "version": 3
   },
   "file_extension": ".py",
   "mimetype": "text/x-python",
   "name": "python",
   "nbconvert_exporter": "python",
   "pygments_lexer": "ipython3",
   "version": "3.8.8"
  }
 },
 "nbformat": 4,
 "nbformat_minor": 5
}
