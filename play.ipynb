{
 "cells": [
  {
   "cell_type": "code",
   "execution_count": 9,
   "id": "571aeebe",
   "metadata": {},
   "outputs": [],
   "source": [
    "word = '16,000 m'"
   ]
  },
  {
   "cell_type": "code",
   "execution_count": 17,
   "id": "24b0f059",
   "metadata": {},
   "outputs": [
    {
     "name": "stdout",
     "output_type": "stream",
     "text": [
      "16000\n",
      "m\n"
     ]
    }
   ],
   "source": [
    "lst = list(word)\n",
    "num = ''\n",
    "metric = ''\n",
    "for x in lst:\n",
    "    if x.isnumeric():\n",
    "        num += x\n",
    "    if x.isalpha():\n",
    "        metric += x\n",
    "        \n",
    "print(num)\n",
    "print(metric)"
   ]
  },
  {
   "cell_type": "code",
   "execution_count": 19,
   "id": "18d4cac7",
   "metadata": {},
   "outputs": [
    {
     "name": "stdout",
     "output_type": "stream",
     "text": [
      "9.94\n"
     ]
    }
   ],
   "source": [
    "var = round(int(num)/1610,2)\n",
    "print(var)"
   ]
  }
 ],
 "metadata": {
  "kernelspec": {
   "display_name": "Python 3 (ipykernel)",
   "language": "python",
   "name": "python3"
  },
  "language_info": {
   "codemirror_mode": {
    "name": "ipython",
    "version": 3
   },
   "file_extension": ".py",
   "mimetype": "text/x-python",
   "name": "python",
   "nbconvert_exporter": "python",
   "pygments_lexer": "ipython3",
   "version": "3.8.8"
  }
 },
 "nbformat": 4,
 "nbformat_minor": 5
}
